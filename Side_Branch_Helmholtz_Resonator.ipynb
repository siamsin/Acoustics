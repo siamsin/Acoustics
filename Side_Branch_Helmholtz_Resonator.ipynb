{
 "cells": [
  {
   "cell_type": "markdown",
   "id": "72774735",
   "metadata": {},
   "source": [
    "# To design a resonator that will attenuate sound at the same low frequency of a side branch (quater wave tube) resonator\n",
    "\n",
    "## Step 1: Calculate the resonant frequency of the side branch resonator\n",
    "Resonant frequency of the side branch resonator is $$f = \\frac{c}{4L_{eff}}$$ \n",
    "$c$ is the speed of sound and the effective length of the resonator is $$L_{eff}=L+0.3d$$ \n",
    "The equivalent internal diameter of the resonator is $$d=2\\sqrt{\\frac{S_{B}}{\\pi}}$$\n",
    "$S_{B}$ is the corss sectional area of the side branch resonator\n",
    "\n",
    "## Step 2: Calculate the volume of the Helmholtz resonator\n",
    "Resonant frequency of Helmholtz resonator is $$f=\\frac{c}{2\\pi}\\sqrt{\\frac{S_{neck}}{\\hat{L}_{eff}V}}$$\n",
    "The volume can be calculated as $$V=k^{2}\\frac{S_{neck}}{\\hat{L}_{eff}}$$\n",
    "$k$ is the wave number given by $$k=\\frac{\\omega}{c}$$\n",
    "$\\hat{L}_{eff}$ is the effective 'neck' length $$\\hat{L}_{eff}=\\hat{L}+0.85r$$\n",
    "$r$ is the equivalent radius of the 'neck' given as $$r=\\sqrt{\\frac{S_{neck}}{\\pi}}$$"
   ]
  },
  {
   "cell_type": "code",
   "execution_count": 64,
   "id": "68f4cf42",
   "metadata": {},
   "outputs": [
    {
     "name": "stdout",
     "output_type": "stream",
     "text": [
      "413.1148473980102\n",
      "0.04072331321858568\n",
      "0.00021439457672811478\n"
     ]
    }
   ],
   "source": [
    "import math\n",
    "import numpy as np\n",
    "\n",
    "L = 0.2                      #Length of side branch resonator in m\n",
    "SB = 5*1e-4                 #Cross sectional area of side branch resonator in m2\n",
    "c= 343                       #Speed of sound in m/s\n",
    "d=2*math.sqrt(SB/math.pi)\n",
    "#d=0\n",
    "Leff=L+0.3*d\n",
    "f = c/(4*Leff)\n",
    "print(f)\n",
    "Lhat=0.03                    #Neck length in m\n",
    "Sneck=5*1e-4                #Neck cross sectional area in m2\n",
    "r=math.sqrt(Sneck/math.pi)   #Neck radius (equivalent) in m\n",
    "#r=0\n",
    "Lhateff=Lhat+0.85*r          #Effective necklength in m\n",
    "k=2*math.pi*f/c              #wave number corresponding to the resonant frequency of the side branch resonator\n",
    "V=Sneck/(np.square(k)*Lhateff)          #Volume of Helmholtz resonator\n",
    "print(Lhateff)\n",
    "print(V)"
   ]
  },
  {
   "cell_type": "code",
   "execution_count": 69,
   "id": "32af13b7",
   "metadata": {},
   "outputs": [
    {
     "data": {
      "image/png": "[encoded data removed]",
      "text/plain": [
       "<Figure size 432x288 with 1 Axes>"
      ]
     },
     "metadata": {
      "needs_background": "light"
     },
     "output_type": "display_data"
    }
   ],
   "source": [
    "#Transmission Loss calculations\n",
    "#TL of Side branch\n",
    "import numpy as np\n",
    "import matplotlib.pyplot as plt\n",
    "freq = np.linspace(5,1000,1000)\n",
    "S=10*1e-4\n",
    "kn=2*np.pi*freq/c\n",
    "\n",
    "TL_sb=10*np.log10((np.tan(kn*Leff)**2+4*(S/SB)**2)/(4*(S/SB)**2));\n",
    "#TL of Helmholtz resonator\n",
    "TL_hr=10*np.log10(1+((0.5*c/S)/((2*np.pi*freq*Lhateff/Sneck)-(c**2/(2*np.pi*freq*V))))**2);\n",
    "plt.plot(freq,TL_sb,'r',freq,TL_hr,'k')\n",
    "plt.legend(('Quarter wave resonator', 'Helmholtz resonator'),loc='upper right', shadow=True)\n",
    "plt.xlabel(\"frequency in Hz\")\n",
    "plt.ylabel(\"Transmission Loss in dB\")\n",
    "plt.show()"
   ]
  },
  {
   "cell_type": "code",
   "execution_count": null,
   "id": "a237a577",
   "metadata": {},
   "outputs": [],
   "source": []
  }
 ],
 "metadata": {
  "kernelspec": {
   "display_name": "Python 3",
   "language": "python",
   "name": "python3"
  },
  "language_info": {
   "codemirror_mode": {
    "name": "ipython",
    "version": 3
   },
   "file_extension": ".py",
   "mimetype": "text/x-python",
   "name": "python",
   "nbconvert_exporter": "python",
   "pygments_lexer": "ipython3",
   "version": "3.8.8"
  }
 },
 "nbformat": 4,
 "nbformat_minor": 5
}
